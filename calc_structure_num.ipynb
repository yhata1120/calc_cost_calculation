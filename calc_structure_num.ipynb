{
 "cells": [
  {
   "cell_type": "code",
   "execution_count": 1,
   "id": "dcc3d73d",
   "metadata": {},
   "outputs": [],
   "source": [
    "import numpy as np\n",
    "import glob\n",
    "import os\n",
    "import shutil\n",
    "import matplotlib.pyplot as plt"
   ]
  },
  {
   "cell_type": "code",
   "execution_count": 2,
   "id": "9faea802",
   "metadata": {},
   "outputs": [],
   "source": [
    "def get_cnid_basis(filename):\n",
    "    with open(f\"{filename}\",\"r\") as f:\n",
    "        lines = f.readlines()\n",
    "#         cnidv1y = float(lines[2].split()[-1])\n",
    "#         cnidv1z = float(lines[3].split()[-1])\n",
    "#         cnidv2y = float(lines[4].split()[-1])\n",
    "#         cnidv2z = float(lines[5].split()[-1])\n",
    "        na = int(lines[6].split()[-1])\n",
    "        nb = int(lines[7].split()[-1])\n",
    "#         cnidv1 = np.round(na*np.array([cnidv1y,cnidv1z]),10)\n",
    "#         cnidv2 = np.round(nb*np.array([cnidv2y,cnidv2z]),10)\n",
    "    return na, nb"
   ]
  },
  {
   "cell_type": "code",
   "execution_count": 3,
   "id": "057c0bdc",
   "metadata": {
    "scrolled": true
   },
   "outputs": [
    {
     "name": "stdout",
     "output_type": "stream",
     "text": [
      "122 1900\n",
      "146 2090\n",
      "170 2242\n",
      "178 2299\n",
      "194 2413\n",
      "5 437\n",
      "10 551\n",
      "13 646\n",
      "17 741\n",
      "25 893\n",
      "26 893\n",
      "29 950\n",
      "34 1007\n",
      "41 1121\n",
      "37 1064\n",
      "61 1368\n",
      "50 1216\n",
      "53 1273\n",
      "58 1311\n",
      "74 1482\n",
      "85 1596\n",
      "65 1406\n",
      "73 1482\n",
      "89 1634\n",
      "82 1558\n",
      "97 1710\n",
      "106 1786\n",
      "130 1976\n"
     ]
    }
   ],
   "source": [
    "structure_num_list = []\n",
    "sigma_list = []\n",
    "for dirname in glob.glob(\"Cu100/*\"):\n",
    "    filename = f\"{dirname}/paras\"\n",
    "    a, b = get_cnid_basis(filename)\n",
    "    gbname = dirname.split(\"/\")[-1]\n",
    "    gbname = gbname.split(\"_\")[:-1]\n",
    "    gbname = np.array([int(i) for i in gbname])\n",
    "    squared_hkl = int(np.square(gbname).sum())\n",
    "    print(squared_hkl,a*b)\n",
    "    structure_num_list.append(a*b)\n",
    "    sigma_list.append(squared_hkl)\n",
    "structure_num_list = np.array(structure_num_list)\n",
    "sigma_list = np.array(sigma_list)"
   ]
  },
  {
   "cell_type": "code",
   "execution_count": 4,
   "id": "484fa67e",
   "metadata": {},
   "outputs": [],
   "source": [
    " def get_sturecture_num(savedirname):\n",
    "    structure_num_list = []\n",
    "    sigma_list = []\n",
    "    for dirname in glob.glob(f\"{savedirname}/*\"):\n",
    "        filename = f\"{dirname}/paras\"\n",
    "        a, b = get_cnid_basis(filename)\n",
    "        gbname = dirname.split(\"/\")[-1]\n",
    "        gbname = gbname.split(\"_\")[:-1]\n",
    "        gbname = np.array([int(i) for i in gbname])\n",
    "        squared_hkl = int(np.square(gbname).sum())\n",
    "#         print(squared_hkl,a*b)\n",
    "        structure_num_list.append(a*b)\n",
    "        sigma_list.append(squared_hkl)\n",
    "    structure_num_list = np.array(structure_num_list)\n",
    "    n_layer = sigma_list.copy()\n",
    "    sigma_list = 2*np.array(sigma_list)\n",
    "    return structure_num_list, sigma_list, n_layer"
   ]
  },
  {
   "cell_type": "code",
   "execution_count": 5,
   "id": "b5327c3b",
   "metadata": {},
   "outputs": [],
   "source": [
    "Cu_100_cnid, Cu_100_ct, hkl = get_sturecture_num(\"Cu100\")"
   ]
  },
  {
   "cell_type": "code",
   "execution_count": 6,
   "id": "d63a949d",
   "metadata": {},
   "outputs": [
    {
     "data": {
      "text/plain": [
       "<matplotlib.collections.PathCollection at 0x2b740dceca00>"
      ]
     },
     "execution_count": 6,
     "metadata": {},
     "output_type": "execute_result"
    },
    {
     "data": {
      "image/png": "[encoded data removed]",
      "text/plain": [
       "<Figure size 432x288 with 1 Axes>"
      ]
     },
     "metadata": {
      "needs_background": "light"
     },
     "output_type": "display_data"
    }
   ],
   "source": [
    "plt.scatter(hkl,Cu_100_cnid)\n",
    "plt.scatter(hkl,Cu_100_ct)"
   ]
  },
  {
   "cell_type": "code",
   "execution_count": 7,
   "id": "e1c67edc",
   "metadata": {},
   "outputs": [],
   "source": [
    "Cu_110_cnid, Cu_110_ct, hkl = get_sturecture_num(\"Cu110\")"
   ]
  },
  {
   "cell_type": "code",
   "execution_count": 8,
   "id": "584b979d",
   "metadata": {},
   "outputs": [
    {
     "data": {
      "text/plain": [
       "<matplotlib.collections.PathCollection at 0x2b740e17df40>"
      ]
     },
     "execution_count": 8,
     "metadata": {},
     "output_type": "execute_result"
    },
    {
     "data": {
      "image/png": "[encoded data removed]",
      "text/plain": [
       "<Figure size 432x288 with 1 Axes>"
      ]
     },
     "metadata": {
      "needs_background": "light"
     },
     "output_type": "display_data"
    }
   ],
   "source": [
    "plt.scatter(hkl,Cu_110_cnid)\n",
    "plt.scatter(hkl,Cu_110_ct)"
   ]
  },
  {
   "cell_type": "code",
   "execution_count": 9,
   "id": "de6acad9",
   "metadata": {},
   "outputs": [],
   "source": [
    "Cu_111_cnid, Cu_111_ct, hkl = get_sturecture_num(\"Cu111\")"
   ]
  },
  {
   "cell_type": "code",
   "execution_count": 10,
   "id": "a895e566",
   "metadata": {
    "scrolled": true
   },
   "outputs": [
    {
     "data": {
      "text/plain": [
       "<matplotlib.collections.PathCollection at 0x2b740df22220>"
      ]
     },
     "execution_count": 10,
     "metadata": {},
     "output_type": "execute_result"
    },
    {
     "data": {
      "image/png": "[encoded data removed]",
      "text/plain": [
       "<Figure size 432x288 with 1 Axes>"
      ]
     },
     "metadata": {
      "needs_background": "light"
     },
     "output_type": "display_data"
    }
   ],
   "source": [
    "plt.scatter(hkl,Cu_111_cnid)\n",
    "plt.scatter(hkl,Cu_111_ct)"
   ]
  },
  {
   "cell_type": "code",
   "execution_count": 11,
   "id": "f00304ca",
   "metadata": {},
   "outputs": [],
   "source": [
    "Mo_100_cnid, Mo_100_ct, hkl = get_sturecture_num(\"Mo100\")"
   ]
  },
  {
   "cell_type": "code",
   "execution_count": 13,
   "id": "86c4905a",
   "metadata": {},
   "outputs": [
    {
     "data": {
      "text/plain": [
       "<matplotlib.collections.PathCollection at 0x2b740f9484c0>"
      ]
     },
     "execution_count": 13,
     "metadata": {},
     "output_type": "execute_result"
    },
    {
     "data": {
      "image/png": "[encoded data removed]",
      "text/plain": [
       "<Figure size 432x288 with 1 Axes>"
      ]
     },
     "metadata": {
      "needs_background": "light"
     },
     "output_type": "display_data"
    }
   ],
   "source": [
    "plt.scatter(hkl,Mo_100_cnid)\n",
    "plt.scatter(hkl,Mo_100_ct)"
   ]
  },
  {
   "cell_type": "code",
   "execution_count": 14,
   "id": "235bebff",
   "metadata": {},
   "outputs": [],
   "source": [
    "Mo_110_cnid, Mo_110_ct, hkl = get_sturecture_num(\"Mo110\")"
   ]
  },
  {
   "cell_type": "code",
   "execution_count": 15,
   "id": "c110396e",
   "metadata": {},
   "outputs": [
    {
     "data": {
      "text/plain": [
       "<matplotlib.collections.PathCollection at 0x2b740f9b3520>"
      ]
     },
     "execution_count": 15,
     "metadata": {},
     "output_type": "execute_result"
    },
    {
     "data": {
      "image/png": "[encoded data removed]",
      "text/plain": [
       "<Figure size 432x288 with 1 Axes>"
      ]
     },
     "metadata": {
      "needs_background": "light"
     },
     "output_type": "display_data"
    }
   ],
   "source": [
    "plt.scatter(hkl,Mo_110_cnid)\n",
    "plt.scatter(hkl,Mo_110_ct)"
   ]
  },
  {
   "cell_type": "code",
   "execution_count": 16,
   "id": "dc904286",
   "metadata": {},
   "outputs": [],
   "source": [
    "Mo_111_cnid, Mo_111_ct, hkl = get_sturecture_num(\"Mo111\")"
   ]
  },
  {
   "cell_type": "code",
   "execution_count": 17,
   "id": "d935c665",
   "metadata": {},
   "outputs": [
    {
     "data": {
      "text/plain": [
       "<matplotlib.collections.PathCollection at 0x2b740fa07850>"
      ]
     },
     "execution_count": 17,
     "metadata": {},
     "output_type": "execute_result"
    },
    {
     "data": {
      "image/png": "[encoded data removed]",
      "text/plain": [
       "<Figure size 432x288 with 1 Axes>"
      ]
     },
     "metadata": {
      "needs_background": "light"
     },
     "output_type": "display_data"
    }
   ],
   "source": [
    "plt.scatter(hkl,Mo_111_cnid)\n",
    "plt.scatter(hkl,Mo_111_ct)"
   ]
  },
  {
   "cell_type": "code",
   "execution_count": null,
   "id": "f9c5cd19",
   "metadata": {},
   "outputs": [],
   "source": []
  },
  {
   "cell_type": "code",
   "execution_count": 21,
   "id": "bac58f4f",
   "metadata": {},
   "outputs": [],
   "source": [
    " def get_sturecture_num_twist(savedirname):\n",
    "    structure_num_list = []\n",
    "    sigma_list = []\n",
    "    for dirname in glob.glob(f\"{savedirname}/*\"):\n",
    "        filename = f\"{dirname}/paras\"\n",
    "        a, b = get_cnid_basis(filename)\n",
    "        gbname = dirname.split(\"/\")[-1]\n",
    "        gbname = int(gbname.split(\"_\")[0])\n",
    "#         gbname = np.array([int(i) for i in gbname])\n",
    "#         squared_hkl = int(np.square(gbname).sum())\n",
    "#         print(squared_hkl,a*b)\n",
    "        structure_num_list.append(a*b)\n",
    "        sigma_list.append(gbname)\n",
    "    structure_num_list = np.array(structure_num_list)\n",
    "    sigma_list = np.array(sigma_list)\n",
    "#     n_layer = sigma_list.copy()\n",
    "#     sigma_list = 2*np.array(sigma_list)\n",
    "    return structure_num_list, sigma_list"
   ]
  },
  {
   "cell_type": "code",
   "execution_count": 22,
   "id": "826a28df",
   "metadata": {},
   "outputs": [],
   "source": [
    "Cu_100_twist, sigma = get_sturecture_num_twist(\"twist_Cu100\")"
   ]
  },
  {
   "cell_type": "code",
   "execution_count": 23,
   "id": "a9d3c13f",
   "metadata": {},
   "outputs": [
    {
     "data": {
      "text/plain": [
       "<matplotlib.collections.PathCollection at 0x2b740fa6b7c0>"
      ]
     },
     "execution_count": 23,
     "metadata": {},
     "output_type": "execute_result"
    },
    {
     "data": {
      "image/png": "[encoded data removed]",
      "text/plain": [
       "<Figure size 432x288 with 1 Axes>"
      ]
     },
     "metadata": {
      "needs_background": "light"
     },
     "output_type": "display_data"
    }
   ],
   "source": [
    "plt.scatter(sigma,Cu_100_twist)"
   ]
  },
  {
   "cell_type": "code",
   "execution_count": null,
   "id": "4de5da60",
   "metadata": {},
   "outputs": [],
   "source": []
  }
 ],
 "metadata": {
  "kernelspec": {
   "display_name": "Python 3 (ipykernel)",
   "language": "python",
   "name": "python3"
  },
  "language_info": {
   "codemirror_mode": {
    "name": "ipython",
    "version": 3
   },
   "file_extension": ".py",
   "mimetype": "text/x-python",
   "name": "python",
   "nbconvert_exporter": "python",
   "pygments_lexer": "ipython3",
   "version": "3.8.3"
  }
 },
 "nbformat": 4,
 "nbformat_minor": 5
}
